{
 "cells": [
  {
   "cell_type": "markdown",
   "metadata": {},
   "source": [
    "#### Introduction\n",
    "\n",
    "In this project, I investigate and illustrate the usage and purpose of data transformation techniques.\n",
    "While data transformation covers a wide range of area such as general standardization and normalization, up to some very technical domain such as principal component analysis. This project intended to focus on methods that change data instead of features.\n",
    "\n",
    "The dataset employed is California Housing Prices provided by Cam Nugent on Kaggle\n",
    "\n",
    "link to dataset: https://www.kaggle.com/camnugent/california-housing-prices\n",
    "\n",
    "Below listed some data transformation techniques:\n",
    "\n",
    "1.  Discretization\n",
    "2.  Normalization - Min-max normalization\n",
    "3.  Normalization - Decimal Scaling (ommited, just divide all value to its decimal level eg. when max = 4865, scale = divide all values by 10000 which gives 0.4865 as maximum)\n",
    "4.  Normalization - Z-score normalization\n",
    "5.  Max Abs Scaler\n",
    "6.  Robust Scaler\n",
    "7.  Quantile Transformer Scaler (ommited,another similar robust scaler)\n",
    "8. Power Transformer Scaler\n",
    "  \n",
    "#### References:\n",
    "1. https://www.upgrad.com/blog/methods-of-data-transformation-in-data-mining/\n",
    "2. https://www.analyticsvidhya.com/blog/2020/04/feature-scaling-machine-learning-normalization-standardization/\n",
    "3. https://towardsdatascience.com/all-about-feature-scaling-bcc0ad75cb35\n"
   ]
  },
  {
   "cell_type": "markdown",
   "metadata": {},
   "source": [
    "---\n",
    "---\n",
    "#### Coding\n",
    "---\n",
    "#### Preparation Works"
   ]
  },
  {
   "cell_type": "code",
   "execution_count": 106,
   "metadata": {},
   "outputs": [],
   "source": [
    "import pandas as pd\n",
    "from sklearn.preprocessing import MinMaxScaler\n",
    "from sklearn.preprocessing import StandardScaler\n",
    "from sklearn.preprocessing import MaxAbsScaler\n",
    "from sklearn.preprocessing import RobustScaler\n",
    "from sklearn.preprocessing import PowerTransformer"
   ]
  },
  {
   "cell_type": "code",
   "execution_count": 2,
   "metadata": {},
   "outputs": [
    {
     "data": {
      "text/plain": [
       "(20640, 10)"
      ]
     },
     "execution_count": 2,
     "metadata": {},
     "output_type": "execute_result"
    }
   ],
   "source": [
    "# cnames = ['age','workclass','fnlwgt','education','education-num',\n",
    "#           'marital-status','occupation','relationship','race','sex',\n",
    "#          'capital-gain','capital-loss','hours-per-week','native-country']\n",
    "df = pd.read_csv('housing.csv', index_col = False)\n",
    "df.shape"
   ]
  },
  {
   "cell_type": "code",
   "execution_count": 3,
   "metadata": {},
   "outputs": [
    {
     "data": {
      "text/html": [
       "<div>\n",
       "<style scoped>\n",
       "    .dataframe tbody tr th:only-of-type {\n",
       "        vertical-align: middle;\n",
       "    }\n",
       "\n",
       "    .dataframe tbody tr th {\n",
       "        vertical-align: top;\n",
       "    }\n",
       "\n",
       "    .dataframe thead th {\n",
       "        text-align: right;\n",
       "    }\n",
       "</style>\n",
       "<table border=\"1\" class=\"dataframe\">\n",
       "  <thead>\n",
       "    <tr style=\"text-align: right;\">\n",
       "      <th></th>\n",
       "      <th>longitude</th>\n",
       "      <th>latitude</th>\n",
       "      <th>housing_median_age</th>\n",
       "      <th>total_rooms</th>\n",
       "      <th>total_bedrooms</th>\n",
       "      <th>population</th>\n",
       "      <th>households</th>\n",
       "      <th>median_income</th>\n",
       "      <th>median_house_value</th>\n",
       "      <th>ocean_proximity</th>\n",
       "    </tr>\n",
       "  </thead>\n",
       "  <tbody>\n",
       "    <tr>\n",
       "      <th>0</th>\n",
       "      <td>-122.23</td>\n",
       "      <td>37.88</td>\n",
       "      <td>41.0</td>\n",
       "      <td>880.0</td>\n",
       "      <td>129.0</td>\n",
       "      <td>322.0</td>\n",
       "      <td>126.0</td>\n",
       "      <td>8.3252</td>\n",
       "      <td>452600.0</td>\n",
       "      <td>NEAR BAY</td>\n",
       "    </tr>\n",
       "    <tr>\n",
       "      <th>1</th>\n",
       "      <td>-122.22</td>\n",
       "      <td>37.86</td>\n",
       "      <td>21.0</td>\n",
       "      <td>7099.0</td>\n",
       "      <td>1106.0</td>\n",
       "      <td>2401.0</td>\n",
       "      <td>1138.0</td>\n",
       "      <td>8.3014</td>\n",
       "      <td>358500.0</td>\n",
       "      <td>NEAR BAY</td>\n",
       "    </tr>\n",
       "    <tr>\n",
       "      <th>2</th>\n",
       "      <td>-122.24</td>\n",
       "      <td>37.85</td>\n",
       "      <td>52.0</td>\n",
       "      <td>1467.0</td>\n",
       "      <td>190.0</td>\n",
       "      <td>496.0</td>\n",
       "      <td>177.0</td>\n",
       "      <td>7.2574</td>\n",
       "      <td>352100.0</td>\n",
       "      <td>NEAR BAY</td>\n",
       "    </tr>\n",
       "    <tr>\n",
       "      <th>3</th>\n",
       "      <td>-122.25</td>\n",
       "      <td>37.85</td>\n",
       "      <td>52.0</td>\n",
       "      <td>1274.0</td>\n",
       "      <td>235.0</td>\n",
       "      <td>558.0</td>\n",
       "      <td>219.0</td>\n",
       "      <td>5.6431</td>\n",
       "      <td>341300.0</td>\n",
       "      <td>NEAR BAY</td>\n",
       "    </tr>\n",
       "    <tr>\n",
       "      <th>4</th>\n",
       "      <td>-122.25</td>\n",
       "      <td>37.85</td>\n",
       "      <td>52.0</td>\n",
       "      <td>1627.0</td>\n",
       "      <td>280.0</td>\n",
       "      <td>565.0</td>\n",
       "      <td>259.0</td>\n",
       "      <td>3.8462</td>\n",
       "      <td>342200.0</td>\n",
       "      <td>NEAR BAY</td>\n",
       "    </tr>\n",
       "    <tr>\n",
       "      <th>5</th>\n",
       "      <td>-122.25</td>\n",
       "      <td>37.85</td>\n",
       "      <td>52.0</td>\n",
       "      <td>919.0</td>\n",
       "      <td>213.0</td>\n",
       "      <td>413.0</td>\n",
       "      <td>193.0</td>\n",
       "      <td>4.0368</td>\n",
       "      <td>269700.0</td>\n",
       "      <td>NEAR BAY</td>\n",
       "    </tr>\n",
       "    <tr>\n",
       "      <th>6</th>\n",
       "      <td>-122.25</td>\n",
       "      <td>37.84</td>\n",
       "      <td>52.0</td>\n",
       "      <td>2535.0</td>\n",
       "      <td>489.0</td>\n",
       "      <td>1094.0</td>\n",
       "      <td>514.0</td>\n",
       "      <td>3.6591</td>\n",
       "      <td>299200.0</td>\n",
       "      <td>NEAR BAY</td>\n",
       "    </tr>\n",
       "    <tr>\n",
       "      <th>7</th>\n",
       "      <td>-122.25</td>\n",
       "      <td>37.84</td>\n",
       "      <td>52.0</td>\n",
       "      <td>3104.0</td>\n",
       "      <td>687.0</td>\n",
       "      <td>1157.0</td>\n",
       "      <td>647.0</td>\n",
       "      <td>3.1200</td>\n",
       "      <td>241400.0</td>\n",
       "      <td>NEAR BAY</td>\n",
       "    </tr>\n",
       "  </tbody>\n",
       "</table>\n",
       "</div>"
      ],
      "text/plain": [
       "   longitude  latitude  housing_median_age  total_rooms  total_bedrooms  \\\n",
       "0    -122.23     37.88                41.0        880.0           129.0   \n",
       "1    -122.22     37.86                21.0       7099.0          1106.0   \n",
       "2    -122.24     37.85                52.0       1467.0           190.0   \n",
       "3    -122.25     37.85                52.0       1274.0           235.0   \n",
       "4    -122.25     37.85                52.0       1627.0           280.0   \n",
       "5    -122.25     37.85                52.0        919.0           213.0   \n",
       "6    -122.25     37.84                52.0       2535.0           489.0   \n",
       "7    -122.25     37.84                52.0       3104.0           687.0   \n",
       "\n",
       "   population  households  median_income  median_house_value ocean_proximity  \n",
       "0       322.0       126.0         8.3252            452600.0        NEAR BAY  \n",
       "1      2401.0      1138.0         8.3014            358500.0        NEAR BAY  \n",
       "2       496.0       177.0         7.2574            352100.0        NEAR BAY  \n",
       "3       558.0       219.0         5.6431            341300.0        NEAR BAY  \n",
       "4       565.0       259.0         3.8462            342200.0        NEAR BAY  \n",
       "5       413.0       193.0         4.0368            269700.0        NEAR BAY  \n",
       "6      1094.0       514.0         3.6591            299200.0        NEAR BAY  \n",
       "7      1157.0       647.0         3.1200            241400.0        NEAR BAY  "
      ]
     },
     "execution_count": 3,
     "metadata": {},
     "output_type": "execute_result"
    }
   ],
   "source": [
    "df.head(8)"
   ]
  },
  {
   "cell_type": "markdown",
   "metadata": {},
   "source": [
    "---\n",
    "#### Discretization\n",
    "\n",
    "Discretization refers to the process of converting continuous variables into categorical one, often ordinal. The purpose is to reduce complexity of the dataset, sometimes to ease machine learning, but mostly to ease human understanding and increase data presentability. Below I selected housing_median_age and implemented Discretization."
   ]
  },
  {
   "cell_type": "code",
   "execution_count": 4,
   "metadata": {},
   "outputs": [
    {
     "data": {
      "text/plain": [
       "1.0"
      ]
     },
     "execution_count": 4,
     "metadata": {},
     "output_type": "execute_result"
    }
   ],
   "source": [
    "housing_age = df['housing_median_age']\n",
    "housing_age.min()"
   ]
  },
  {
   "cell_type": "code",
   "execution_count": 5,
   "metadata": {},
   "outputs": [
    {
     "data": {
      "text/plain": [
       "52.0"
      ]
     },
     "execution_count": 5,
     "metadata": {},
     "output_type": "execute_result"
    }
   ],
   "source": [
    "housing_age.max()"
   ]
  },
  {
   "cell_type": "code",
   "execution_count": 6,
   "metadata": {},
   "outputs": [
    {
     "data": {
      "text/plain": [
       "29.0"
      ]
     },
     "execution_count": 6,
     "metadata": {},
     "output_type": "execute_result"
    }
   ],
   "source": [
    "housing_age.median()"
   ]
  },
  {
   "cell_type": "markdown",
   "metadata": {},
   "source": [
    "##### Long and raw Approach\n",
    "Distribute datapoints into number of bins based on quartile"
   ]
  },
  {
   "cell_type": "code",
   "execution_count": 7,
   "metadata": {},
   "outputs": [
    {
     "data": {
      "text/plain": [
       "0.25    18.0\n",
       "0.50    29.0\n",
       "0.75    37.0\n",
       "Name: housing_median_age, dtype: float64"
      ]
     },
     "execution_count": 7,
     "metadata": {},
     "output_type": "execute_result"
    }
   ],
   "source": [
    "housing_age.quantile([0.25,0.5,0.75])"
   ]
  },
  {
   "cell_type": "code",
   "execution_count": 8,
   "metadata": {},
   "outputs": [
    {
     "data": {
      "text/plain": [
       "2    5343\n",
       "1    5326\n",
       "3    5026\n",
       "4    4945\n",
       "Name: housing_median_age, dtype: int64"
      ]
     },
     "execution_count": 8,
     "metadata": {},
     "output_type": "execute_result"
    }
   ],
   "source": [
    "def discretizing(x):\n",
    "    if x <= 18: return 1\n",
    "    if x <= 29: return 2\n",
    "    if x <= 37: return 3\n",
    "    if x > 37: return 4\n",
    "\n",
    "housing_age_discretized = housing_age.apply(discretizing)\n",
    "housing_age_discretized.value_counts()"
   ]
  },
  {
   "cell_type": "markdown",
   "metadata": {},
   "source": [
    "##### Short Approach\n",
    "\n",
    "Use pandas.cut()\n",
    "simpler and much balance bin size, though it is also achievable though bin calculation if coding in raw."
   ]
  },
  {
   "cell_type": "code",
   "execution_count": 9,
   "metadata": {},
   "outputs": [
    {
     "data": {
      "text/plain": [
       "0        (39.25, 52.0]\n",
       "1        (13.75, 26.5]\n",
       "2        (39.25, 52.0]\n",
       "3        (39.25, 52.0]\n",
       "4        (39.25, 52.0]\n",
       "             ...      \n",
       "20635    (13.75, 26.5]\n",
       "20636    (13.75, 26.5]\n",
       "20637    (13.75, 26.5]\n",
       "20638    (13.75, 26.5]\n",
       "20639    (13.75, 26.5]\n",
       "Name: housing_median_age, Length: 20640, dtype: category\n",
       "Categories (4, interval[float64]): [(0.949, 13.75] < (13.75, 26.5] < (26.5, 39.25] < (39.25, 52.0]]"
      ]
     },
     "execution_count": 9,
     "metadata": {},
     "output_type": "execute_result"
    }
   ],
   "source": [
    "housing_age_discretized_2 = pd.cut(housing_age,4)\n",
    "housing_age_discretized_2"
   ]
  },
  {
   "cell_type": "markdown",
   "metadata": {},
   "source": [
    "#### Normalization - min-max normalization\n",
    "\n",
    "This method convert all scores to have minimum value of 0 and maximum value of 1.\n",
    "Lets apply min-max normalization to median_income."
   ]
  },
  {
   "cell_type": "code",
   "execution_count": 30,
   "metadata": {},
   "outputs": [
    {
     "data": {
      "text/plain": [
       "array([0.53966842, 0.53802706, 0.46602805, ..., 0.08276438, 0.09429525,\n",
       "       0.13025338])"
      ]
     },
     "execution_count": 30,
     "metadata": {},
     "output_type": "execute_result"
    }
   ],
   "source": [
    "mscale = MinMaxScaler() \n",
    "minmax_median_income = mscale.fit_transform(df[['median_income']])\n",
    "minmax_median_income = minmax_median_income.flatten()\n",
    "minmax_median_income"
   ]
  },
  {
   "cell_type": "markdown",
   "metadata": {},
   "source": [
    "#### Normalization - z-score Normalization\n",
    "\n",
    "This method uses a normal distribution z-value, which convert the entire dataset to have standard deviation of 1 and mean of 0."
   ]
  },
  {
   "cell_type": "code",
   "execution_count": 92,
   "metadata": {},
   "outputs": [
    {
     "data": {
      "text/plain": [
       "0.9999999999999999"
      ]
     },
     "execution_count": 92,
     "metadata": {},
     "output_type": "execute_result"
    }
   ],
   "source": [
    "sscale = StandardScaler()\n",
    "z_score_median_income = sscale.fit_transform(df[['median_income']])\n",
    "z_score_median_income = z_score_median_income.flatten()\n",
    "z_score_median_income"
   ]
  },
  {
   "cell_type": "markdown",
   "metadata": {},
   "source": [
    "Table below compare the original values, minmax scaler and z-score scaler.\n",
    "Zscore method provides most information at a glance where if the value is near 0, then its around mean, if its negative, its below mean and vice-versa. the wider the value spread beyond or behind the mean, the sparser the data is. \n",
    "However, if deviation is the concern, minmax scaler provide better image as std() of every z-score normalized data is always 1."
   ]
  },
  {
   "cell_type": "code",
   "execution_count": 91,
   "metadata": {},
   "outputs": [
    {
     "data": {
      "text/html": [
       "<div>\n",
       "<style scoped>\n",
       "    .dataframe tbody tr th:only-of-type {\n",
       "        vertical-align: middle;\n",
       "    }\n",
       "\n",
       "    .dataframe tbody tr th {\n",
       "        vertical-align: top;\n",
       "    }\n",
       "\n",
       "    .dataframe thead th {\n",
       "        text-align: right;\n",
       "    }\n",
       "</style>\n",
       "<table border=\"1\" class=\"dataframe\">\n",
       "  <thead>\n",
       "    <tr style=\"text-align: right;\">\n",
       "      <th></th>\n",
       "      <th>income</th>\n",
       "      <th>minmax_income</th>\n",
       "      <th>zscore_income</th>\n",
       "    </tr>\n",
       "  </thead>\n",
       "  <tbody>\n",
       "    <tr>\n",
       "      <th>0</th>\n",
       "      <td>8.3252</td>\n",
       "      <td>0.539668</td>\n",
       "      <td>2.344766</td>\n",
       "    </tr>\n",
       "    <tr>\n",
       "      <th>1</th>\n",
       "      <td>8.3014</td>\n",
       "      <td>0.538027</td>\n",
       "      <td>2.332238</td>\n",
       "    </tr>\n",
       "    <tr>\n",
       "      <th>2</th>\n",
       "      <td>7.2574</td>\n",
       "      <td>0.466028</td>\n",
       "      <td>1.782699</td>\n",
       "    </tr>\n",
       "    <tr>\n",
       "      <th>3</th>\n",
       "      <td>5.6431</td>\n",
       "      <td>0.354699</td>\n",
       "      <td>0.932968</td>\n",
       "    </tr>\n",
       "    <tr>\n",
       "      <th>4</th>\n",
       "      <td>3.8462</td>\n",
       "      <td>0.230776</td>\n",
       "      <td>-0.012881</td>\n",
       "    </tr>\n",
       "    <tr>\n",
       "      <th>5</th>\n",
       "      <td>4.0368</td>\n",
       "      <td>0.243921</td>\n",
       "      <td>0.087447</td>\n",
       "    </tr>\n",
       "    <tr>\n",
       "      <th>6</th>\n",
       "      <td>3.6591</td>\n",
       "      <td>0.217873</td>\n",
       "      <td>-0.111366</td>\n",
       "    </tr>\n",
       "    <tr>\n",
       "      <th>7</th>\n",
       "      <td>3.1200</td>\n",
       "      <td>0.180694</td>\n",
       "      <td>-0.395137</td>\n",
       "    </tr>\n",
       "    <tr>\n",
       "      <th>8</th>\n",
       "      <td>2.0804</td>\n",
       "      <td>0.108998</td>\n",
       "      <td>-0.942359</td>\n",
       "    </tr>\n",
       "    <tr>\n",
       "      <th>9</th>\n",
       "      <td>3.6912</td>\n",
       "      <td>0.220087</td>\n",
       "      <td>-0.094470</td>\n",
       "    </tr>\n",
       "  </tbody>\n",
       "</table>\n",
       "</div>"
      ],
      "text/plain": [
       "   income  minmax_income  zscore_income\n",
       "0  8.3252       0.539668       2.344766\n",
       "1  8.3014       0.538027       2.332238\n",
       "2  7.2574       0.466028       1.782699\n",
       "3  5.6431       0.354699       0.932968\n",
       "4  3.8462       0.230776      -0.012881\n",
       "5  4.0368       0.243921       0.087447\n",
       "6  3.6591       0.217873      -0.111366\n",
       "7  3.1200       0.180694      -0.395137\n",
       "8  2.0804       0.108998      -0.942359\n",
       "9  3.6912       0.220087      -0.094470"
      ]
     },
     "execution_count": 91,
     "metadata": {},
     "output_type": "execute_result"
    }
   ],
   "source": [
    "normalized_table = pd.DataFrame()\n",
    "normalized_table['income'] = df['median_income']\n",
    "normalized_table['minmax_income'] = minmax_median_income\n",
    "normalized_table['zscore_income'] = z_score_median_income\n",
    "normalized_table.head(10)"
   ]
  },
  {
   "cell_type": "markdown",
   "metadata": {},
   "source": [
    "#### Max Abs Scaler\n",
    "\n",
    "This method convert the data by divide all values by its max value. In another word, this method will result in data.max() = 1. It works similarily to minmaxscaler but do not destroy the original sparcity information of the dataset."
   ]
  },
  {
   "cell_type": "code",
   "execution_count": 114,
   "metadata": {},
   "outputs": [
    {
     "name": "stdout",
     "output_type": "stream",
     "text": [
      "1.0\n",
      "0.03332644449037007\n"
     ]
    }
   ],
   "source": [
    "mascaler = MaxAbsScaler()\n",
    "ma_median_income =  mascaler.fit_transform(df[['median_income']])\n",
    "ma_median_income = ma_median_income.flatten()\n",
    "print(ma_median_income.max())\n",
    "print(ma_median_income.min())"
   ]
  },
  {
   "cell_type": "markdown",
   "metadata": {},
   "source": [
    "#### Robust Scaler\n",
    "\n",
    "If outlier is an issue and cannot be removed, robustscaler is the way to go, instead of using mean value as the center as in z-score normalization, this method employes median and quantiles. It removes the median values from all data and scale the data according to the quantile range."
   ]
  },
  {
   "cell_type": "code",
   "execution_count": 115,
   "metadata": {},
   "outputs": [
    {
     "name": "stdout",
     "output_type": "stream",
     "text": [
      "5.259673830768172\n",
      "-1.392251760442232\n"
     ]
    }
   ],
   "source": [
    "rscaler = RobustScaler()\n",
    "r_median_income = rscaler.fit_transform(df[['median_income']])\n",
    "r_median_income = r_median_income.flatten()\n",
    "print(r_median_income.max())\n",
    "print(r_median_income.min())"
   ]
  },
  {
   "cell_type": "markdown",
   "metadata": {},
   "source": [
    "#### Power Transformer\n",
    "if normality is an issue, power transformer can make data more Gaussian-like\n",
    "do note it breaks the original sparcity information. as shown below, both the min and max are around the same value having mean value around 0 implying a bell shaped distribution"
   ]
  },
  {
   "cell_type": "code",
   "execution_count": 116,
   "metadata": {},
   "outputs": [
    {
     "name": "stdout",
     "output_type": "stream",
     "text": [
      "3.146571508664235\n",
      "-3.4460847380774338\n",
      "-9.363741479009072e-17\n"
     ]
    }
   ],
   "source": [
    "ptscaler = PowerTransformer()\n",
    "pt_median_income = ptscaler.fit_transform(df[['median_income']])\n",
    "pt_median_income = pt_median_income.flatten()\n",
    "print(pt_median_income.max())\n",
    "print(pt_median_income.min())\n",
    "print(pt_median_income.mean())"
   ]
  },
  {
   "cell_type": "markdown",
   "metadata": {},
   "source": [
    "This project investigated the methods of data transformation as well as its usage and purposes. While some seems similar, each of those are only applicable and useful in distinct circumstances. During preprocessing, it is important to identify the method of transformation, which had been proven to improve ml performance (both accuracy and runtime).\n",
    "Below I summarized the original value and all the transformed values as well as providing the data summary.\n",
    "\n"
   ]
  },
  {
   "cell_type": "code",
   "execution_count": 134,
   "metadata": {},
   "outputs": [
    {
     "data": {
      "text/html": [
       "<div>\n",
       "<style scoped>\n",
       "    .dataframe tbody tr th:only-of-type {\n",
       "        vertical-align: middle;\n",
       "    }\n",
       "\n",
       "    .dataframe tbody tr th {\n",
       "        vertical-align: top;\n",
       "    }\n",
       "\n",
       "    .dataframe thead th {\n",
       "        text-align: right;\n",
       "    }\n",
       "</style>\n",
       "<table border=\"1\" class=\"dataframe\">\n",
       "  <thead>\n",
       "    <tr style=\"text-align: right;\">\n",
       "      <th></th>\n",
       "      <th>original income</th>\n",
       "      <th>minmax</th>\n",
       "      <th>zscore</th>\n",
       "      <th>maxabs</th>\n",
       "      <th>robust</th>\n",
       "      <th>powertr</th>\n",
       "    </tr>\n",
       "  </thead>\n",
       "  <tbody>\n",
       "    <tr>\n",
       "      <th>0</th>\n",
       "      <td>8.33</td>\n",
       "      <td>0.54</td>\n",
       "      <td>2.34</td>\n",
       "      <td>0.56</td>\n",
       "      <td>2.20</td>\n",
       "      <td>1.90</td>\n",
       "    </tr>\n",
       "    <tr>\n",
       "      <th>1</th>\n",
       "      <td>8.30</td>\n",
       "      <td>0.54</td>\n",
       "      <td>2.33</td>\n",
       "      <td>0.55</td>\n",
       "      <td>2.19</td>\n",
       "      <td>1.90</td>\n",
       "    </tr>\n",
       "    <tr>\n",
       "      <th>2</th>\n",
       "      <td>7.26</td>\n",
       "      <td>0.47</td>\n",
       "      <td>1.78</td>\n",
       "      <td>0.48</td>\n",
       "      <td>1.71</td>\n",
       "      <td>1.60</td>\n",
       "    </tr>\n",
       "    <tr>\n",
       "      <th>3</th>\n",
       "      <td>5.64</td>\n",
       "      <td>0.35</td>\n",
       "      <td>0.93</td>\n",
       "      <td>0.38</td>\n",
       "      <td>0.97</td>\n",
       "      <td>1.05</td>\n",
       "    </tr>\n",
       "    <tr>\n",
       "      <th>4</th>\n",
       "      <td>3.85</td>\n",
       "      <td>0.23</td>\n",
       "      <td>-0.01</td>\n",
       "      <td>0.26</td>\n",
       "      <td>0.14</td>\n",
       "      <td>0.21</td>\n",
       "    </tr>\n",
       "  </tbody>\n",
       "</table>\n",
       "</div>"
      ],
      "text/plain": [
       "   original income  minmax  zscore  maxabs  robust  powertr\n",
       "0             8.33    0.54    2.34    0.56    2.20     1.90\n",
       "1             8.30    0.54    2.33    0.55    2.19     1.90\n",
       "2             7.26    0.47    1.78    0.48    1.71     1.60\n",
       "3             5.64    0.35    0.93    0.38    0.97     1.05\n",
       "4             3.85    0.23   -0.01    0.26    0.14     0.21"
      ]
     },
     "execution_count": 134,
     "metadata": {},
     "output_type": "execute_result"
    }
   ],
   "source": [
    "finaldf = pd.DataFrame()\n",
    "finaldf['original income'] =  df['median_income']\n",
    "finaldf['minmax'] = minmax_median_income\n",
    "finaldf['zscore'] = z_score_median_income\n",
    "finaldf['maxabs'] = ma_median_income\n",
    "finaldf['robust'] = r_median_income\n",
    "finaldf['powertr'] = pt_median_income \n",
    "finaldf.head()"
   ]
  },
  {
   "cell_type": "code",
   "execution_count": 132,
   "metadata": {},
   "outputs": [
    {
     "data": {
      "text/html": [
       "<div>\n",
       "<style scoped>\n",
       "    .dataframe tbody tr th:only-of-type {\n",
       "        vertical-align: middle;\n",
       "    }\n",
       "\n",
       "    .dataframe tbody tr th {\n",
       "        vertical-align: top;\n",
       "    }\n",
       "\n",
       "    .dataframe thead th {\n",
       "        text-align: right;\n",
       "    }\n",
       "</style>\n",
       "<table border=\"1\" class=\"dataframe\">\n",
       "  <thead>\n",
       "    <tr style=\"text-align: right;\">\n",
       "      <th></th>\n",
       "      <th>original income</th>\n",
       "      <th>minmax</th>\n",
       "      <th>zscore</th>\n",
       "      <th>maxabs</th>\n",
       "      <th>robust</th>\n",
       "      <th>powertr</th>\n",
       "    </tr>\n",
       "  </thead>\n",
       "  <tbody>\n",
       "    <tr>\n",
       "      <th>min</th>\n",
       "      <td>0.50</td>\n",
       "      <td>0.00</td>\n",
       "      <td>-1.77</td>\n",
       "      <td>0.03</td>\n",
       "      <td>-1.39</td>\n",
       "      <td>-3.45</td>\n",
       "    </tr>\n",
       "    <tr>\n",
       "      <th>max</th>\n",
       "      <td>15.00</td>\n",
       "      <td>1.00</td>\n",
       "      <td>5.86</td>\n",
       "      <td>1.00</td>\n",
       "      <td>5.26</td>\n",
       "      <td>3.15</td>\n",
       "    </tr>\n",
       "    <tr>\n",
       "      <th>mean</th>\n",
       "      <td>3.87</td>\n",
       "      <td>0.23</td>\n",
       "      <td>0.00</td>\n",
       "      <td>0.26</td>\n",
       "      <td>0.15</td>\n",
       "      <td>-0.00</td>\n",
       "    </tr>\n",
       "    <tr>\n",
       "      <th>median</th>\n",
       "      <td>3.53</td>\n",
       "      <td>0.21</td>\n",
       "      <td>-0.18</td>\n",
       "      <td>0.24</td>\n",
       "      <td>0.00</td>\n",
       "      <td>0.02</td>\n",
       "    </tr>\n",
       "    <tr>\n",
       "      <th>skew</th>\n",
       "      <td>1.65</td>\n",
       "      <td>1.65</td>\n",
       "      <td>1.65</td>\n",
       "      <td>1.65</td>\n",
       "      <td>1.65</td>\n",
       "      <td>-0.00</td>\n",
       "    </tr>\n",
       "  </tbody>\n",
       "</table>\n",
       "</div>"
      ],
      "text/plain": [
       "        original income  minmax  zscore  maxabs  robust  powertr\n",
       "min                0.50    0.00   -1.77    0.03   -1.39    -3.45\n",
       "max               15.00    1.00    5.86    1.00    5.26     3.15\n",
       "mean               3.87    0.23    0.00    0.26    0.15    -0.00\n",
       "median             3.53    0.21   -0.18    0.24    0.00     0.02\n",
       "skew               1.65    1.65    1.65    1.65    1.65    -0.00"
      ]
     },
     "execution_count": 132,
     "metadata": {},
     "output_type": "execute_result"
    }
   ],
   "source": [
    "#supress scientific notation by round off value to 2 decimal places\n",
    "pd.options.display.float_format = '{:.2f}'.format\n",
    "\n",
    "#summary statistics\n",
    "summary = finaldf.agg({ \"original income\": ['min','max','mean','median','skew'],\n",
    "                       'minmax' : ['min','max','mean','median','skew'],\n",
    "                       'zscore' : ['min','max','mean','median','skew'],\n",
    "                       'maxabs' : ['min','max','mean','median','skew'],\n",
    "                       'robust' : ['min','max','mean','median','skew'],\n",
    "                       'powertr' : ['min','max','mean','median','skew']\n",
    "                      })\n",
    "summary"
   ]
  }
 ],
 "metadata": {
  "kernelspec": {
   "display_name": "Python 3",
   "language": "python",
   "name": "python3"
  },
  "language_info": {
   "codemirror_mode": {
    "name": "ipython",
    "version": 3
   },
   "file_extension": ".py",
   "mimetype": "text/x-python",
   "name": "python",
   "nbconvert_exporter": "python",
   "pygments_lexer": "ipython3",
   "version": "3.8.3"
  }
 },
 "nbformat": 4,
 "nbformat_minor": 4
}
